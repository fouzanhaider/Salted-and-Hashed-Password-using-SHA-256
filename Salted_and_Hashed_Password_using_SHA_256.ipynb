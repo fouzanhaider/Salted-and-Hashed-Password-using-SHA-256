{
  "nbformat": 4,
  "nbformat_minor": 0,
  "metadata": {
    "colab": {
      "provenance": [],
      "authorship_tag": "ABX9TyPEb827ZIts2RbEWHoV37c7",
      "include_colab_link": true
    },
    "kernelspec": {
      "name": "python3",
      "display_name": "Python 3"
    },
    "language_info": {
      "name": "python"
    }
  },
  "cells": [
    {
      "cell_type": "markdown",
      "metadata": {
        "id": "view-in-github",
        "colab_type": "text"
      },
      "source": [
        "<a href=\"https://colab.research.google.com/github/fouzanhaider/Salted-and-Hashed-Password-using-SHA-256/blob/main/Salted_and_Hashed_Password_using_SHA_256.ipynb\" target=\"_parent\"><img src=\"https://colab.research.google.com/assets/colab-badge.svg\" alt=\"Open In Colab\"/></a>"
      ]
    },
    {
      "cell_type": "code",
      "execution_count": null,
      "metadata": {
        "colab": {
          "base_uri": "https://localhost:8080/"
        },
        "id": "tlx0hkgkzjJt",
        "outputId": "b62da76f-7b93-4776-a834-29fe71012b14"
      },
      "outputs": [
        {
          "output_type": "stream",
          "name": "stdout",
          "text": [
            "Enter your password: mhukhguw\n",
            "Original Password: mhukhguw\n",
            "Salt (in bytes): f77cb2eafa61a2e889cb8c878f7331b7\n",
            "Salted and Hashed Password (SHA-256): 92c170fc851cd53b3174e565b929d101f4a4c7760b6ddccf6880ed99ce438175\n"
          ]
        }
      ],
      "source": [
        "\n",
        "import hashlib\n",
        "import os\n",
        "\n",
        "# Step 1: Take password input from the user\n",
        "password = input(\"Enter your password: \")\n",
        "\n",
        "# Step 2: Generate a random salt (16 bytes)\n",
        "salt = os.urandom(16)\n",
        "\n",
        "# Step 3: Combine password and salt (concatenate)\n",
        "password_salt = password.encode('utf-8') + salt\n",
        "\n",
        "# Step 4: Hash the salted password using SHA-256\n",
        "hashed_password = hashlib.sha256(password_salt).hexdigest()\n",
        "\n",
        "# Output the results\n",
        "print(f\"Original Password: {password}\")\n",
        "print(f\"Salt (in bytes): {salt.hex()}\")\n",
        "print(f\"Salted and Hashed Password (SHA-256): {hashed_password}\")\n"
      ]
    }
  ]
}